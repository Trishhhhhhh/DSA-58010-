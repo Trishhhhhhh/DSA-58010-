{
  "nbformat": 4,
  "nbformat_minor": 0,
  "metadata": {
    "colab": {
      "provenance": [],
      "collapsed_sections": [],
      "authorship_tag": "ABX9TyPL+vMWqwVkczBn17o1uC0k",
      "include_colab_link": true
    },
    "kernelspec": {
      "name": "python3",
      "display_name": "Python 3"
    },
    "language_info": {
      "name": "python"
    }
  },
  "cells": [
    {
      "cell_type": "markdown",
      "metadata": {
        "id": "view-in-github",
        "colab_type": "text"
      },
      "source": [
        "<a href=\"https://colab.research.google.com/github/Trishhhhhhh/DSA-58010-/blob/main/PythonModule_Yaba.ipynb\" target=\"_parent\"><img src=\"https://colab.research.google.com/assets/colab-badge.svg\" alt=\"Open In Colab\"/></a>"
      ]
    },
    {
      "cell_type": "markdown",
      "source": [
        "Example 1"
      ],
      "metadata": {
        "id": "QIAC_GeM55kQ"
      }
    },
    {
      "cell_type": "code",
      "execution_count": 22,
      "metadata": {
        "colab": {
          "base_uri": "https://localhost:8080/"
        },
        "id": "3FegWicb5VLs",
        "outputId": "7f0fee00-819b-44c0-8d2b-5be70cba2df1"
      },
      "outputs": [
        {
          "output_type": "stream",
          "name": "stdout",
          "text": [
            "i\n",
            "f\n"
          ]
        }
      ],
      "source": [
        "import array\n",
        "array.typecodes #get all typecodes\n",
        "A = array.array('i',[1,2,3,4,5,6]) #initializing array A\n",
        "B = array.array('f',[1.5,2.5,3.5,4.5,5.5,6.5]) #initializing array b\n",
        "print(A.typecode)\n",
        "print(B.typecode)"
      ]
    },
    {
      "cell_type": "markdown",
      "source": [
        "Example 2: Create/convert the elements of array A to float/decimal number"
      ],
      "metadata": {
        "id": "zdZR3xUE8KyY"
      }
    },
    {
      "cell_type": "code",
      "source": [
        "\n",
        "A = array.array('f',[1,2,3,4,5,6]) #initializing array A\n",
        "print(A)\n"
      ],
      "metadata": {
        "colab": {
          "base_uri": "https://localhost:8080/"
        },
        "id": "ANm6Pw1G8Naz",
        "outputId": "d3f4cfa7-bd37-42b1-f78c-3cfb4ebf694f"
      },
      "execution_count": 21,
      "outputs": [
        {
          "output_type": "stream",
          "name": "stdout",
          "text": [
            "array('f', [1.0, 2.0, 3.0, 4.0, 5.0, 6.0])\n"
          ]
        }
      ]
    },
    {
      "cell_type": "markdown",
      "source": [
        "What is the output of these codes?"
      ],
      "metadata": {
        "id": "3j-ACx1o-yIg"
      }
    },
    {
      "cell_type": "code",
      "source": [
        "  import array\n",
        "a = array.array('i', [4,5,6,7]) #initialzing array a\n",
        "a.insert (1,2) #insert element 2 to index 1\n",
        "print(a)\n",
        "a.insert(-1,0) #insert element 0 to index -1\n",
        "print (a)\n",
        "a.insert (6,8) #insert elemet 8 to 6 index\n",
        "print (a)"
      ],
      "metadata": {
        "colab": {
          "base_uri": "https://localhost:8080/"
        },
        "id": "zRjy3mN7_44-",
        "outputId": "31fa42f8-374b-4a7d-904f-d8b4d1e7c9f3"
      },
      "execution_count": 37,
      "outputs": [
        {
          "output_type": "stream",
          "name": "stdout",
          "text": [
            "array('i', [4, 2, 5, 6, 7])\n",
            "array('i', [4, 2, 5, 6, 0, 7])\n",
            "array('i', [4, 2, 5, 6, 0, 7, 8])\n"
          ]
        }
      ]
    },
    {
      "cell_type": "markdown",
      "source": [
        "Linked Lists"
      ],
      "metadata": {
        "id": "uqAADsUDDTu4"
      }
    },
    {
      "cell_type": "code",
      "source": [
        "#function that creates node object\n",
        "\n",
        "class Node:\n",
        "  def __init__(self,data):\n",
        "    self.data = data    # assign data\n",
        "    self.next = None    # initialize as null\n",
        "\n",
        "#function that creates Linked-list object\n",
        "\n",
        "class LinkedList:\n",
        "  def __init(self):\n",
        "    self.head = None   #initialize head as null\n"
      ],
      "metadata": {
        "id": "btLqthflDVcx"
      },
      "execution_count": 33,
      "outputs": []
    },
    {
      "cell_type": "code",
      "source": [
        "class Node:\n",
        "  def __init__(self, data):\n",
        "    self.data = data    #assign data\n",
        "    self.next = None    # initialize as null\n",
        "\n",
        "#function that creates Linked-list object\n",
        "\n",
        "class LinkedList:\n",
        "  def __init(self):\n",
        "    self.head = None    #initialize head as null\n",
        "\n",
        "  def printList(self):\n",
        "    temp = self.head\n",
        "    while(temp != None):\n",
        "     print(temp.data)\n",
        "     temp = temp.next\n",
        "\n",
        "list = LinkedList()   #empty list\n",
        "list.head = Node(1)\n",
        "second = Node(2)\n",
        "third = Node (3)\n",
        "fourth = Node(4)\n",
        "fifth = Node(5)\n",
        "\n",
        "list.head.next=second\n",
        "second.next = third\n",
        "third.next = fourth\n",
        "fourth.next= fifth\n",
        "\n",
        "list.printList()"
      ],
      "metadata": {
        "colab": {
          "base_uri": "https://localhost:8080/"
        },
        "id": "hR1vOiJyMdu3",
        "outputId": "8a0872b4-ca1e-4d80-b598-7447d690fc9c"
      },
      "execution_count": 51,
      "outputs": [
        {
          "output_type": "stream",
          "name": "stdout",
          "text": [
            "1\n",
            "2\n",
            "3\n",
            "4\n",
            "5\n"
          ]
        }
      ]
    }
  ]
}