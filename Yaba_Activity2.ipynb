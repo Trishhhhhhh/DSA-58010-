{
  "nbformat": 4,
  "nbformat_minor": 0,
  "metadata": {
    "colab": {
      "provenance": [],
      "authorship_tag": "ABX9TyMCTpBtidItIymm/BhLd3u4",
      "include_colab_link": true
    },
    "kernelspec": {
      "name": "python3",
      "display_name": "Python 3"
    },
    "language_info": {
      "name": "python"
    }
  },
  "cells": [
    {
      "cell_type": "markdown",
      "metadata": {
        "id": "view-in-github",
        "colab_type": "text"
      },
      "source": [
        "<a href=\"https://colab.research.google.com/github/Trishhhhhhh/DSA-58010-/blob/main/Yaba_Activity2.ipynb\" target=\"_parent\"><img src=\"https://colab.research.google.com/assets/colab-badge.svg\" alt=\"Open In Colab\"/></a>"
      ]
    },
    {
      "cell_type": "markdown",
      "source": [
        "Write a Python program to create a singly linked list of prime numbers less than 20"
      ],
      "metadata": {
        "id": "vhC8rSoQHjbG"
      }
    },
    {
      "cell_type": "code",
      "source": [
        "#Python program to display all the prime numbers less than 20\n",
        "\n",
        "print(\"Prime numbers less than\", upper, \"are:\")\n",
        "\n",
        "for num in range(lower, upper + 1):   \n",
        "   if num > 1:                      #all prime numbers that are less than 20\n",
        "       for i in range(2, num):\n",
        "           if (num % i) == 0:\n",
        "               break\n",
        "       else:\n",
        "           print(num)\n",
        "\n",
        "lower = 1\n",
        "upper = 20\n"
      ],
      "metadata": {
        "colab": {
          "base_uri": "https://localhost:8080/"
        },
        "id": "vc1gKWGBbEjm",
        "outputId": "53a5e92f-848a-4aac-a887-de1fa89e3cc8"
      },
      "execution_count": 63,
      "outputs": [
        {
          "output_type": "stream",
          "name": "stdout",
          "text": [
            "Prime numbers less than 20 are:\n",
            "2\n",
            "3\n",
            "5\n",
            "7\n",
            "11\n",
            "13\n",
            "17\n",
            "19\n"
          ]
        }
      ]
    },
    {
      "cell_type": "markdown",
      "source": [
        "By iterating through the list, display all the prime numbers, the head, and the tail of the list. "
      ],
      "metadata": {
        "id": "QeiRWHgFPoCN"
      }
    },
    {
      "cell_type": "code",
      "source": [
        ">>> head, *tail = [2, 3, 5, 7, 11, 13, 17, 19]\n",
        ">>> head\n",
        "1\n",
        ">>> tail\n",
        "[2, 3, 5, 7, 11, 13, 17, 19]\n"
      ],
      "metadata": {
        "colab": {
          "base_uri": "https://localhost:8080/"
        },
        "id": "gFAaveuNdaPb",
        "outputId": "75cbbcdf-089d-4e0c-d4f8-e58f4be6971c"
      },
      "execution_count": 65,
      "outputs": [
        {
          "output_type": "execute_result",
          "data": {
            "text/plain": [
              "[2, 3, 5, 7, 11, 13, 17, 19]"
            ]
          },
          "metadata": {},
          "execution_count": 65
        }
      ]
    }
  ]
}