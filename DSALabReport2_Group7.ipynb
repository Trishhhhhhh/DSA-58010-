{
  "nbformat": 4,
  "nbformat_minor": 0,
  "metadata": {
    "colab": {
      "provenance": [],
      "authorship_tag": "ABX9TyOpYvk+EEPN6pTmFELrCAKG",
      "include_colab_link": true
    },
    "kernelspec": {
      "name": "python3",
      "display_name": "Python 3"
    },
    "language_info": {
      "name": "python"
    }
  },
  "cells": [
    {
      "cell_type": "markdown",
      "metadata": {
        "id": "view-in-github",
        "colab_type": "text"
      },
      "source": [
        "<a href=\"https://colab.research.google.com/github/Trishhhhhhh/DSA-58010-/blob/main/DSALabReport2_Group7.ipynb\" target=\"_parent\"><img src=\"https://colab.research.google.com/assets/colab-badge.svg\" alt=\"Open In Colab\"/></a>"
      ]
    },
    {
      "cell_type": "code",
      "execution_count": null,
      "metadata": {
        "id": "KF9u5_K19ch0"
      },
      "outputs": [],
      "source": []
    },
    {
      "cell_type": "code",
      "source": [
        "def Minimum(values):  \n",
        "   if len(values) == 0:                 \n",
        "     return None\n",
        "   if len(values) == 1:                 \n",
        "     return values[0]         \n",
        "   return min(values[0], Minimum(values[1:]))  \n",
        "    \n",
        "def Maximum(values):         \n",
        "   if len(values) == 0:                 \n",
        "     return None         \n",
        "   if len(values) == 1:                 \n",
        "     return values[0]         \n",
        "   return max(values[0], Maximum(values[1:])) \n",
        "\n",
        "print(\"Minimum Value of the Sequence:\",Minimum([3,6,9,12])) \n",
        "print(\"Maximum Value of the Sequence:\",Maximum([3,6,9,12]))"
      ],
      "metadata": {
        "colab": {
          "base_uri": "https://localhost:8080/"
        },
        "id": "SnkiPt8JKvIV",
        "outputId": "b3419fbe-17b1-478c-988a-996dee7daf8e"
      },
      "execution_count": 1,
      "outputs": [
        {
          "output_type": "stream",
          "name": "stdout",
          "text": [
            "Minimum Value of the Sequence: 3\n",
            "Maximum Value of the Sequence: 12\n"
          ]
        }
      ]
    }
  ]
}