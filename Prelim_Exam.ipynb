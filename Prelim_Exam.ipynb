{
  "nbformat": 4,
  "nbformat_minor": 0,
  "metadata": {
    "colab": {
      "provenance": [],
      "authorship_tag": "ABX9TyPU5kdKAyBK1zpjcIL5mNQF",
      "include_colab_link": true
    },
    "kernelspec": {
      "name": "python3",
      "display_name": "Python 3"
    },
    "language_info": {
      "name": "python"
    }
  },
  "cells": [
    {
      "cell_type": "markdown",
      "metadata": {
        "id": "view-in-github",
        "colab_type": "text"
      },
      "source": [
        "<a href=\"https://colab.research.google.com/github/Trishhhhhhh/DSA-58010-/blob/main/Prelim_Exam.ipynb\" target=\"_parent\"><img src=\"https://colab.research.google.com/assets/colab-badge.svg\" alt=\"Open In Colab\"/></a>"
      ]
    },
    {
      "cell_type": "markdown",
      "source": [
        "Choose Array Data Structure. Create a Python program that creates the Array list below and counts the numbe of even numbersa"
      ],
      "metadata": {
        "id": "eGSvAbR8obbM"
      }
    },
    {
      "cell_type": "code",
      "source": [
        "A = [1, 2, 3, 4, 5, 6, 7, 8 , 9, 10]\n",
        "B = 0\n",
        "D = []\n",
        "for C in A:\n",
        " if C!= 1:\n",
        "  if C% 2 == 0:\n",
        "   B += 1\n",
        "\n",
        "for C in A:\n",
        " if C % 2 == 0:\n",
        "   D. append (C)\n",
        "\n",
        "print (\"The number of even numbers: \") \n",
        "print (\"The identifies Array List: \")"
      ],
      "metadata": {
        "colab": {
          "base_uri": "https://localhost:8080/"
        },
        "id": "hPO4YPclm_bf",
        "outputId": "982ea54b-5594-4911-f22f-37ca4b32614f"
      },
      "execution_count": 10,
      "outputs": [
        {
          "output_type": "stream",
          "name": "stdout",
          "text": [
            "The number of even numbers: \n",
            "The identifies Array List: \n"
          ]
        }
      ]
    }
  ]
}