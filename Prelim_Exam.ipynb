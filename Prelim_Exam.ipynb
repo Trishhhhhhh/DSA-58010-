{
  "nbformat": 4,
  "nbformat_minor": 0,
  "metadata": {
    "colab": {
      "provenance": [],
      "authorship_tag": "ABX9TyMEULAZOxRX4uN1lQ8LiKxZ",
      "include_colab_link": true
    },
    "kernelspec": {
      "name": "python3",
      "display_name": "Python 3"
    },
    "language_info": {
      "name": "python"
    }
  },
  "cells": [
    {
      "cell_type": "markdown",
      "metadata": {
        "id": "view-in-github",
        "colab_type": "text"
      },
      "source": [
        "<a href=\"https://colab.research.google.com/github/Trishhhhhhh/DSA-58010-/blob/main/Prelim_Exam.ipynb\" target=\"_parent\"><img src=\"https://colab.research.google.com/assets/colab-badge.svg\" alt=\"Open In Colab\"/></a>"
      ]
    },
    {
      "cell_type": "markdown",
      "source": [
        "Choose Array Data Structure. Create a Python program that creates the Array list below and counts the numbe of even numbersa"
      ],
      "metadata": {
        "id": "eGSvAbR8obbM"
      }
    },
    {
      "cell_type": "code",
      "source": [
        "A = [1, 2, 3, 4, 5, 6, 7, 8 , 9, 10]\n",
        "B = 0\n",
        "D = []\n",
        "for C in A:\n",
        " if C!= 1:\n",
        "  if C% 2 == 0:\n",
        "   B += 1\n",
        "\n",
        "for C in A:\n",
        " if C % 2 == 0:\n",
        "   D. append (C)\n",
        "\n",
        "print (\"The number of even numbers: \", B)\n",
        "print (\"The identifies Array List: \", D)\n",
        "\n",
        "\n",
        "\n"
      ],
      "metadata": {
        "colab": {
          "base_uri": "https://localhost:8080/"
        },
        "id": "hPO4YPclm_bf",
        "outputId": "ea40392f-40e2-47e5-aa41-6670b7920fe7"
      },
      "execution_count": 5,
      "outputs": [
        {
          "output_type": "stream",
          "name": "stdout",
          "text": [
            "The number of even numbers:  5\n",
            "The identifies Array List:  [2, 4, 6, 8, 10]\n"
          ]
        }
      ]
    }
  ]
}