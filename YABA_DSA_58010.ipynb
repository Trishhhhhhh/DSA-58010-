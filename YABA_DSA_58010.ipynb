{
  "nbformat": 4,
  "nbformat_minor": 0,
  "metadata": {
    "colab": {
      "name": "YABA_DSA 58010",
      "provenance": [],
      "authorship_tag": "ABX9TyO9ZRPlR7QNb0MwUmRpnJy0",
      "include_colab_link": true
    },
    "kernelspec": {
      "name": "python3",
      "display_name": "Python 3"
    },
    "language_info": {
      "name": "python"
    }
  },
  "cells": [
    {
      "cell_type": "markdown",
      "metadata": {
        "id": "view-in-github",
        "colab_type": "text"
      },
      "source": [
        "<a href=\"https://colab.research.google.com/github/Trishhhhhhh/DSA-58010-/blob/main/YABA_DSA_58010.ipynb\" target=\"_parent\"><img src=\"https://colab.research.google.com/assets/colab-badge.svg\" alt=\"Open In Colab\"/></a>"
      ]
    },
    {
      "cell_type": "code",
      "execution_count": null,
      "metadata": {
        "id": "a_xIu2vsX_Gf"
      },
      "outputs": [],
      "source": [
        "import math  \n",
        "  \n",
        "def area_of_the_circle (Radius):   \n",
        "    area = Radius** 2 * math.pi  \n",
        "    return area  \n",
        "  \n",
        "Radius = float (input (\"Please enter the radius of the given circle: \"))  \n",
        "print (\" The area of the given circle is: \", area_of_the_circle (Radius))  \n"
      ]
    }
  ]
}