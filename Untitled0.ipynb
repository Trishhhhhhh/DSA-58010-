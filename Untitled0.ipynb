{
  "nbformat": 4,
  "nbformat_minor": 0,
  "metadata": {
    "colab": {
      "name": "Untitled0.ipynb",
      "provenance": [],
      "authorship_tag": "ABX9TyMXg8F/RJnDz9MykRwOvY1f",
      "include_colab_link": true
    },
    "kernelspec": {
      "name": "python3",
      "display_name": "Python 3"
    },
    "language_info": {
      "name": "python"
    }
  },
  "cells": [
    {
      "cell_type": "markdown",
      "metadata": {
        "id": "view-in-github",
        "colab_type": "text"
      },
      "source": [
        "<a href=\"https://colab.research.google.com/github/Trishhhhhhh/DSA-58010-/blob/main/Untitled0.ipynb\" target=\"_parent\"><img src=\"https://colab.research.google.com/assets/colab-badge.svg\" alt=\"Open In Colab\"/></a>"
      ]
    },
    {
      "cell_type": "code",
      "execution_count": null,
      "metadata": {
        "id": "uYHYYVQoUrp5"
      },
      "outputs": [],
      "source": [
        "class Shape:\n",
        "def Area(self):\n",
        "pass\n",
        "def Perimeter (self):\n",
        "pass\n",
        "class Rectangle:    #Polymorphism\n",
        "def\n",
        "init\n",
        "_(self, sidel, side2) :\n",
        "self.sidel = sidel\n",
        "self.side2 = side2\n",
        "def Area(self):\n",
        "print(self.sidel*self.side2)\n",
        "def Perimeter(self):\n",
        "print (2*(self.sidel+self.side2))\n",
        "class Square (Shape) : #Inheritance\n",
        "def\n",
        "init\n",
        "(self,side):\n",
        "self.side = side\n",
        "def Area(self):\n",
        "print(self.side**2)\n",
        "def Perimeter(self):\n",
        "print(self .side*4)\n",
        "square = Square(4)\n",
        "square.Area0)\n",
        "rect=Rectangle(7,3)\n",
        "rect.Area()\n",
        "square.Perimeter)\n",
        "rect.Perimeter)"
      ]
    }
  ]
}