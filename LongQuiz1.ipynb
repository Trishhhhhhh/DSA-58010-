{
  "nbformat": 4,
  "nbformat_minor": 0,
  "metadata": {
    "colab": {
      "provenance": [],
      "authorship_tag": "ABX9TyOwtBMGlsrExkIxeDnZAb5N",
      "include_colab_link": true
    },
    "kernelspec": {
      "name": "python3",
      "display_name": "Python 3"
    },
    "language_info": {
      "name": "python"
    }
  },
  "cells": [
    {
      "cell_type": "markdown",
      "metadata": {
        "id": "view-in-github",
        "colab_type": "text"
      },
      "source": [
        "<a href=\"https://colab.research.google.com/github/Trishhhhhhh/DSA-58010-/blob/main/LongQuiz1.ipynb\" target=\"_parent\"><img src=\"https://colab.research.google.com/assets/colab-badge.svg\" alt=\"Open In Colab\"/></a>"
      ]
    },
    {
      "cell_type": "markdown",
      "source": [
        "Create a python program that appends each character of your full name and displays each character in reverse order (in Colab)"
      ],
      "metadata": {
        "id": "r_VR96V4deWV"
      }
    },
    {
      "cell_type": "code",
      "source": [
        "print(\"Name:Trisha Grace R. Yaba\")\n",
        "name = []\n",
        "name.append(\"T\")\n",
        "name.append(\"R\")\n",
        "name.append(\"I\")\n",
        "name.append(\"S\")\n",
        "name.append(\"H\")\n",
        "name.append(\"A\")\n",
        "name.append(\" \")\n",
        "name.append(\"G\")\n",
        "name.append(\"R\")\n",
        "name.append(\"A\")\n",
        "name.append(\"C\")\n",
        "name.append(\"E\")\n",
        "name.append(\" \")\n",
        "name.append(\"R.\")\n",
        "name.append(\" \")\n",
        "name.append(\"Y\")\n",
        "name.append(\"A\")\n",
        "name.append(\"B\")\n",
        "name.append(\"A\")\n",
        "\n",
        "\n",
        "name.reverse()\n",
        "\n",
        "for x in name:\n",
        "  print(x)"
      ],
      "metadata": {
        "colab": {
          "base_uri": "https://localhost:8080/"
        },
        "id": "G_GdHA3-inxg",
        "outputId": "88eceda5-ae16-4dff-a0e0-543fd3c15502"
      },
      "execution_count": 1,
      "outputs": [
        {
          "output_type": "stream",
          "name": "stdout",
          "text": [
            "Name:Trisha Grace R. Yaba\n",
            "A\n",
            "B\n",
            "A\n",
            "Y\n",
            " \n",
            "R.\n",
            " \n",
            "E\n",
            "C\n",
            "A\n",
            "R\n",
            "G\n",
            " \n",
            "A\n",
            "H\n",
            "S\n",
            "I\n",
            "R\n",
            "T\n"
          ]
        }
      ]
    }
  ]
}