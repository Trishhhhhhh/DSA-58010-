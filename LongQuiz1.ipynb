{
  "nbformat": 4,
  "nbformat_minor": 0,
  "metadata": {
    "colab": {
      "provenance": [],
      "authorship_tag": "ABX9TyNsUh/ASlFrTdhjTMaHkiky",
      "include_colab_link": true
    },
    "kernelspec": {
      "name": "python3",
      "display_name": "Python 3"
    },
    "language_info": {
      "name": "python"
    }
  },
  "cells": [
    {
      "cell_type": "markdown",
      "metadata": {
        "id": "view-in-github",
        "colab_type": "text"
      },
      "source": [
        "<a href=\"https://colab.research.google.com/github/Trishhhhhhh/DSA-58010-/blob/main/LongQuiz1.ipynb\" target=\"_parent\"><img src=\"https://colab.research.google.com/assets/colab-badge.svg\" alt=\"Open In Colab\"/></a>"
      ]
    },
    {
      "cell_type": "markdown",
      "source": [
        "Create a python program that appends each character of your full name and displays each character in reverse order (in Colab)"
      ],
      "metadata": {
        "id": "r_VR96V4deWV"
      }
    },
    {
      "cell_type": "code",
      "source": [
        "print(\"Name:Trisha Grace R. Yaba)\n",
        "name = []\n",
        "name.append(\"T\")\n",
        "name.append(\"R\")\n",
        "name.append(\"I\")\n",
        "name.append(\"S\")\n",
        "name.append(\"H\")\n",
        "name.append(\"A\")\n",
        "name.append(\" \")\n",
        "name.append(\"G\")\n",
        "name.append(\"R\")\n",
        "name.append(\"A\")\n",
        "name.append(\"C\")\n",
        "name.append(\"E\")\n",
        "name.append(\" \")\n",
        "name.append(\"R.\")\n",
        "name.append(\" \")\n",
        "name.append(\"Y\")\n",
        "name.append(\"A\")\n",
        "name.append(\"B\")\n",
        "name.append(\"A\")\n",
        "\n",
        "\n",
        "name.reverse()\n",
        "\n",
        "for x in name:\n",
        "  print(x)"
      ],
      "metadata": {
        "colab": {
          "base_uri": "https://localhost:8080/",
          "height": 130
        },
        "id": "G_GdHA3-inxg",
        "outputId": "b97140bf-a556-4cac-9d36-d0de0614e6c6"
      },
      "execution_count": 14,
      "outputs": [
        {
          "output_type": "error",
          "ename": "SyntaxError",
          "evalue": "ignored",
          "traceback": [
            "\u001b[0;36m  File \u001b[0;32m\"<ipython-input-14-9b33c50e54c9>\"\u001b[0;36m, line \u001b[0;32m1\u001b[0m\n\u001b[0;31m    print(\"Name:Trisha Grace R. Yaba)\u001b[0m\n\u001b[0m                                     ^\u001b[0m\n\u001b[0;31mSyntaxError\u001b[0m\u001b[0;31m:\u001b[0m EOL while scanning string literal\n"
          ]
        }
      ]
    }
  ]
}